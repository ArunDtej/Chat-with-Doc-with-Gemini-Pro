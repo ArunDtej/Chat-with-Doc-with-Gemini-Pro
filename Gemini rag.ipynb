{
 "cells": [
  {
   "attachments": {},
   "cell_type": "markdown",
   "metadata": {},
   "source": [
    "# Install & import necessary packages"
   ]
  },
  {
   "cell_type": "code",
   "execution_count": 2,
   "metadata": {},
   "outputs": [],
   "source": [
    "# !pip install langchain\n",
    "# !pip install PyPDF2\n",
    "# !pip install openai\n",
    "# !pip install tiktoken\n",
    "# !pip install InstructorEmbedding\n",
    "# !pip install sentence_transformers\n",
    "# !pip install faiss-cpu\n",
    "# !pip install text_generation\n",
    "# !pip install  google-generativeai\n",
    "# !pip install langchain-google-genai\n",
    "# !pip install python-dotenv\n",
    "# !pip install chromadb"
   ]
  },
  {
   "cell_type": "code",
   "execution_count": 1,
   "metadata": {},
   "outputs": [],
   "source": [
    "# from dotenv import load_dotenv\n",
    "# load_dotenv()"
   ]
  },
  {
   "cell_type": "code",
   "execution_count": 2,
   "metadata": {},
   "outputs": [
    {
     "name": "stderr",
     "output_type": "stream",
     "text": [
      "C:\\Users\\arunc\\AppData\\Local\\Packages\\PythonSoftwareFoundation.Python.3.10_qbz5n2kfra8p0\\LocalCache\\local-packages\\Python310\\site-packages\\tqdm\\auto.py:21: TqdmWarning: IProgress not found. Please update jupyter and ipywidgets. See https://ipywidgets.readthedocs.io/en/stable/user_install.html\n",
      "  from .autonotebook import tqdm as notebook_tqdm\n"
     ]
    }
   ],
   "source": [
    "import os\n",
    "from langchain.vectorstores import Chroma\n",
    "from langchain.text_splitter import RecursiveCharacterTextSplitter\n",
    "from langchain.chains import RetrievalQA\n",
    "from langchain.document_loaders import PyPDFLoader\n",
    "from langchain.document_loaders import DirectoryLoader\n",
    "from PyPDF2 import PdfReader\n",
    "\n",
    "\n",
    "\n",
    "import google.generativeai as genai\n",
    "from langchain_google_genai import ChatGoogleGenerativeAI\n",
    "\n",
    "import urllib\n",
    "import warnings\n",
    "from pathlib import Path as p\n",
    "from pprint import pprint\n",
    "\n",
    "import pandas as pd\n",
    "from langchain import PromptTemplate\n",
    "from langchain.chains.question_answering import load_qa_chain\n",
    "\n",
    "import faiss\n",
    "from langchain.vectorstores import FAISS\n",
    "\n",
    "from langchain_google_genai import GoogleGenerativeAIEmbeddings\n",
    "import os\n"
   ]
  },
  {
   "attachments": {},
   "cell_type": "markdown",
   "metadata": {},
   "source": [
    "# Configure API keys"
   ]
  },
  {
   "cell_type": "code",
   "execution_count": null,
   "metadata": {},
   "outputs": [],
   "source": [
    "gemini_api_key = 'YOUR_API_KEY'\n",
    "genai.configure(api_key= gemini_api_key)"
   ]
  },
  {
   "attachments": {},
   "cell_type": "markdown",
   "metadata": {},
   "source": [
    "# Loading the pdf file and making knowledge DB"
   ]
  },
  {
   "cell_type": "code",
   "execution_count": 3,
   "metadata": {},
   "outputs": [],
   "source": [
    "pdf_reader = PdfReader('48lawsofpower.pdf')\n",
    "text = \"\"\n",
    "for page in pdf_reader.pages:\n",
    "    text += page.extract_text()"
   ]
  },
  {
   "cell_type": "code",
   "execution_count": 4,
   "metadata": {},
   "outputs": [],
   "source": [
    "text_splitter = RecursiveCharacterTextSplitter(\n",
    "            chunk_size=1500,\n",
    "            chunk_overlap=300,\n",
    "            # length_function=len\n",
    "            )\n",
    "chunks = text_splitter.split_text(text=text)"
   ]
  },
  {
   "cell_type": "code",
   "execution_count": 5,
   "metadata": {},
   "outputs": [],
   "source": [
    "embeddings = GoogleGenerativeAIEmbeddings(model=\"models/embedding-001\")\n",
    "VectorStore = FAISS.from_texts(chunks, embedding=embeddings)"
   ]
  },
  {
   "attachments": {},
   "cell_type": "markdown",
   "metadata": {},
   "source": [
    "# Init Gemini through langchain"
   ]
  },
  {
   "cell_type": "code",
   "execution_count": 7,
   "metadata": {},
   "outputs": [],
   "source": [
    "from langchain_google_genai import ChatGoogleGenerativeAI\n",
    "\n",
    "model_name = \"gemini-pro\"\n",
    "m = ChatGoogleGenerativeAI(model=model_name,convert_system_message_to_human=True, google_api_key= gemini_api_key)\n"
   ]
  },
  {
   "cell_type": "code",
   "execution_count": 12,
   "metadata": {},
   "outputs": [],
   "source": [
    "\n",
    "warnings.filterwarnings(\"ignore\")\n",
    "\n",
    "prompt_template = \"\"\"Answer the question according to the provided context. \\n\\n\n",
    "                    Context: \\n {context}?\\n\n",
    "                    Question: \\n {question} \\n\n",
    "                    Answer:\n",
    "                  \"\"\"\n",
    "\n",
    "prompt = PromptTemplate(\n",
    "    template=prompt_template, input_variables=[\"context\", \"question\"]\n",
    ")\n",
    "\n",
    "stuff_chain = load_qa_chain(m, chain_type=\"stuff\", prompt=prompt)"
   ]
  },
  {
   "cell_type": "code",
   "execution_count": 13,
   "metadata": {},
   "outputs": [
    {
     "name": "stdout",
     "output_type": "stream",
     "text": [
      "Attempt 1 failed. Error: index: 0\n",
      "finish_reason: RECITATION\n",
      "\n",
      "{'output_text': 'The passage mentions Empress Wu of China as an example of someone who crushed her enemies totally. She used various tactics such as seduction, murder, and manipulation to eliminate anyone who challenged her throne. She ruled until the age of eighty when she was forced to abdicate, but she had successfully crushed all of her enemies during her reign.'}\n"
     ]
    }
   ],
   "source": [
    "question = \"Can you give me an example from history where the enemy was crushed totally from the book?\"\n",
    "\n",
    "docs = VectorStore.similarity_search(query=question, k=2)\n",
    "\n",
    "max_attempts = 4\n",
    "successful_run = False\n",
    "attempts = 0\n",
    "\n",
    "while not successful_run and attempts < max_attempts:\n",
    "    try:\n",
    "        stuff_answer = stuff_chain(\n",
    "            {\"input_documents\": docs, \"question\": question},\n",
    "            return_only_outputs=True\n",
    "        )\n",
    "        successful_run = True\n",
    "    except Exception as e:\n",
    "        print(f\"Attempt {attempts + 1} failed. Error: {e}\")\n",
    "        attempts += 1\n",
    "\n",
    "if successful_run:\n",
    "    print(stuff_answer)\n",
    "else:\n",
    "    print(\"An error occured, please retry!\")\n"
   ]
  }
 ],
 "metadata": {
  "kernelspec": {
   "display_name": "Python 3",
   "language": "python",
   "name": "python3"
  },
  "language_info": {
   "codemirror_mode": {
    "name": "ipython",
    "version": 3
   },
   "file_extension": ".py",
   "mimetype": "text/x-python",
   "name": "python",
   "nbconvert_exporter": "python",
   "pygments_lexer": "ipython3",
   "version": "3.10.11"
  },
  "orig_nbformat": 4
 },
 "nbformat": 4,
 "nbformat_minor": 2
}
